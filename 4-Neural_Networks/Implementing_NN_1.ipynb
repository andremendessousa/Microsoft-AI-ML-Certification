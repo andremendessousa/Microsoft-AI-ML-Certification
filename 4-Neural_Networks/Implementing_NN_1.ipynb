{
 "cells": [
  {
   "cell_type": "markdown",
   "id": "4139f066",
   "metadata": {},
   "source": [
    "Azure offers tools such as Azure Machine Learning that facilitate the deployment and scaling of machine learning models, including neural networks.\n",
    "\n",
    "A neural network is composed of layers of neurons, where each neuron processes inputs and passes the output to the next layer. In this guide, we will focus on building and training a simple feedforward neural network using the Azure Machine Learning SDK and PyTorch, a widely used deep learning library.\n",
    "\n",
    "By the end of this lesson, you will be able to:\n",
    "\n",
    "Describe the steps needed for the basic implementation of a neural network using Python and Microsoft Azure. "
   ]
  },
  {
   "cell_type": "code",
   "execution_count": null,
   "id": "27a6596a",
   "metadata": {},
   "outputs": [],
   "source": [
    "from azureml.core import Workspace\n",
    "\n",
    "# Create or retrieve an existing Azure ML workspace\n",
    "#ws = Workspace.get(name='myworkspace',\n",
    "                      subscription_id='your-subscription-id',\n",
    "                      resource_group='myresourcegroup',\n",
    "                      location='eastus')\n",
    "\n",
    "ws = Workspace.create(name='myworkspace',\n",
    "                      subscription_id='your-subscription-id',\n",
    "                      resource_group='myresourcegroup',\n",
    "                      location='eastus')\n",
    "\n",
    "# Write configuration to the workspace config file\n",
    "ws.write_config(path='.azureml')"
   ]
  },
  {
   "cell_type": "code",
   "execution_count": null,
   "id": "ffd8e8ee",
   "metadata": {},
   "outputs": [],
   "source": [
    "import torch\n",
    "import torch.nn as nn\n",
    "import torch.optim as optim\n",
    "\n",
    "# Define a simple neural network with one hidden layer\n",
    "class SimpleNN(nn.Module):\n",
    "    def __init__(self):\n",
    "        super(SimpleNN, self).__init__()\n",
    "        self.fc1 = nn.Linear(784, 128)  # Input layer (784 input features)\n",
    "        self.fc2 = nn.Linear(128, 10)   # Output layer (10 classes)\n",
    "        self.relu = nn.ReLU()           # Activation function\n",
    "\n",
    "    def forward(self, x):\n",
    "        x = self.relu(self.fc1(x))  # Apply ReLU after the first layer\n",
    "        x = self.fc2(x)             # Output layer\n",
    "        return x\n",
    "\n",
    "# Initialize the neural network\n",
    "model = SimpleNN()\n",
    "\n",
    "# Define loss function and optimizer\n",
    "criterion = nn.CrossEntropyLoss()  # For classification tasks\n",
    "optimizer = optim.SGD(model.parameters(), lr=0.01)  # Stochastic Gradient Descent"
   ]
  },
  {
   "cell_type": "markdown",
   "id": "cefc1e69",
   "metadata": {},
   "source": [
    "In the above code, we:\n",
    "\n",
    "Defined a simple neural network with an input layer, one hidden layer, and an output layer.\n",
    "\n",
    "Used the ReLU (rectified linear unit) activation function, which is commonly used in neural networks.\n",
    "\n",
    "Defined a CrossEntropyLoss for multi-class classification and SGD (stochastic gradient descent) as the optimizer."
   ]
  },
  {
   "cell_type": "code",
   "execution_count": null,
   "id": "cb391836",
   "metadata": {},
   "outputs": [],
   "source": [
    "from torchvision import datasets, transforms\n",
    "\n",
    "# Load MNIST dataset\n",
    "train_loader = torch.utils.data.DataLoader(\n",
    "    datasets.MNIST(root='data', train=True, download=True,\n",
    "                   transform=transforms.ToTensor()),\n",
    "    batch_size=32, shuffle=True)\n",
    "\n",
    "# Train the model\n",
    "num_epochs = 5\n",
    "for epoch in range(num_epochs):\n",
    "    running_loss = 0.0\n",
    "    for inputs, labels in train_loader:\n",
    "        optimizer.zero_grad()  # Reset gradients\n",
    "\n",
    "        # Forward pass\n",
    "        outputs = model(inputs.view(-1, 784))  # Flatten input\n",
    "        loss = criterion(outputs, labels)      # Compute loss\n",
    "\n",
    "        # Backward pass and optimization\n",
    "        loss.backward()\n",
    "        optimizer.step()\n",
    "\n",
    "        running_loss += loss.item()\n",
    "\n",
    "    print(f\"Epoch {epoch+1}, Loss: {running_loss/len(train_loader)}\")"
   ]
  },
  {
   "cell_type": "markdown",
   "id": "4f6936ab",
   "metadata": {},
   "source": [
    "In this code:\n",
    "\n",
    "The MNIST dataset is loaded using torchvision.\n",
    "\n",
    "The network is trained for five epochs using stochastic gradient descent to update the weights.\n",
    "\n",
    "The input is flattened (from 28 × 28 images to 784 features) before being fed into the network.\n",
    "\n",
    "Step 4: Deploy the model on Azure\n",
    "After training the model, you can deploy it to Azure Machine Learning for inference at scale. Here's how to register the model and deploy it as a web service:"
   ]
  },
  {
   "cell_type": "code",
   "execution_count": null,
   "id": "1e651020",
   "metadata": {},
   "outputs": [],
   "source": [
    "from azureml.core import Model\n",
    "\n",
    "# Save the trained model\n",
    "torch.save(model.state_dict(), 'simple_nn.pth')\n",
    "\n",
    "# Register the model in Azure\n",
    "model = Model.register(workspace=ws, model_path='simple_nn.pth', model_name='simple_nn')\n",
    "\n",
    "# Deploying as a web service requires more steps such as creating a scoring script and environment."
   ]
  }
 ],
 "metadata": {
  "language_info": {
   "name": "python"
  }
 },
 "nbformat": 4,
 "nbformat_minor": 5
}
